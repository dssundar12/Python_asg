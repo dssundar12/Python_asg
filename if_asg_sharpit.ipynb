{
 "cells": [
  {
   "cell_type": "code",
   "execution_count": 1,
   "metadata": {},
   "outputs": [],
   "source": [
    "i=30"
   ]
  },
  {
   "cell_type": "code",
   "execution_count": 7,
   "metadata": {},
   "outputs": [
    {
     "name": "stdout",
     "output_type": "stream",
     "text": [
      "number is 30\n"
     ]
    }
   ],
   "source": [
    "if(i==15):\n",
    "    print(\"number is 15\")\n",
    "elif (i==20):\n",
    "    print(\"number is 20\")\n",
    "elif(i==30):\n",
    "    print(\"number is 30\")\n",
    "else:\n",
    "    print(\"number not present\")\n",
    "        "
   ]
  },
  {
   "cell_type": "code",
   "execution_count": 13,
   "metadata": {},
   "outputs": [],
   "source": [
    "name='sundar'"
   ]
  },
  {
   "cell_type": "code",
   "execution_count": 15,
   "metadata": {},
   "outputs": [
    {
     "name": "stdout",
     "output_type": "stream",
     "text": [
      "hello sundarganesh\n"
     ]
    }
   ],
   "source": [
    "if(name=='alex'):\n",
    "    print('hello alex')\n",
    "elif('name==sundarganesh'):\n",
    "    print('hello sundarganesh')\n",
    "elif(name=='sundar'):\n",
    "    print('Hello sundar')\n",
    "else:\n",
    "    print('name not present')\n",
    "   "
   ]
  },
  {
   "cell_type": "markdown",
   "metadata": {},
   "source": [
    "num\n"
   ]
  },
  {
   "cell_type": "code",
   "execution_count": 10,
   "metadata": {},
   "outputs": [
    {
     "name": "stdout",
     "output_type": "stream",
     "text": [
      "enter a number15\n"
     ]
    }
   ],
   "source": [
    "number=int(input('enter a number'))"
   ]
  },
  {
   "cell_type": "code",
   "execution_count": 12,
   "metadata": {},
   "outputs": [
    {
     "name": "stdout",
     "output_type": "stream",
     "text": [
      "number less than 20\n"
     ]
    }
   ],
   "source": [
    "if (number < 10):\n",
    "    print('number less than 10')\n",
    "elif(number < 20):\n",
    "    print('number less than 20')\n",
    "else:\n",
    "    print('number is greater')\n",
    "    "
   ]
  },
  {
   "cell_type": "code",
   "execution_count": 17,
   "metadata": {},
   "outputs": [
    {
     "name": "stdout",
     "output_type": "stream",
     "text": [
      "enter the ipl teamRCB\n"
     ]
    }
   ],
   "source": [
    "iplchamp=str(input('enter the ipl team'))"
   ]
  },
  {
   "cell_type": "code",
   "execution_count": 19,
   "metadata": {},
   "outputs": [
    {
     "name": "stdout",
     "output_type": "stream",
     "text": [
      "not champions\n"
     ]
    }
   ],
   "source": [
    "if(iplchamp=='SRH'):\n",
    "    print('champions 2016')\n",
    "elif(iplchamp=='CSK'):\n",
    "    print('champions 2010')\n",
    "elif(iplchamp=='RR'):\n",
    "    print('champions 2008')\n",
    "else:\n",
    "    print('not champions')"
   ]
  }
 ],
 "metadata": {
  "kernelspec": {
   "display_name": "Python 3",
   "language": "python",
   "name": "python3"
  },
  "language_info": {
   "codemirror_mode": {
    "name": "ipython",
    "version": 3
   },
   "file_extension": ".py",
   "mimetype": "text/x-python",
   "name": "python",
   "nbconvert_exporter": "python",
   "pygments_lexer": "ipython3",
   "version": "3.6.3"
  }
 },
 "nbformat": 4,
 "nbformat_minor": 2
}
